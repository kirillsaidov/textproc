{
 "cells": [
  {
   "cell_type": "code",
   "execution_count": 6,
   "id": "07d56d02",
   "metadata": {},
   "outputs": [],
   "source": [
    "import os \n",
    "import speech_recognition as sr \n",
    "from pydub import AudioSegment\n",
    "from pydub.silence import split_on_silence"
   ]
  },
  {
   "cell_type": "markdown",
   "id": "1fc1ae45",
   "metadata": {},
   "source": [
    "---"
   ]
  },
  {
   "cell_type": "code",
   "execution_count": 7,
   "id": "ad2a8801",
   "metadata": {},
   "outputs": [],
   "source": [
    "filename = './data/005c.wav'"
   ]
  },
  {
   "cell_type": "code",
   "execution_count": 17,
   "id": "dc0f570a",
   "metadata": {},
   "outputs": [],
   "source": [
    "def audio2text(filename, temp_folder = None, language = None, min_silence_len = 700, silence_thresh = -16, keep_silence = 500):\n",
    "    \"\"\"\n",
    "    Splitting the large audio file into chunks\n",
    "    and apply speech recognition on each of these chunks\n",
    "    \"\"\"\n",
    "    \n",
    "    # create a speech recognition object\n",
    "    r = sr.Recognizer()\n",
    "\n",
    "    # open the audio file using pydub\n",
    "    sound = AudioSegment.from_wav(filename)\n",
    "    \n",
    "    # split audio sound where silence is N miliseconds or more\n",
    "    chunks = split_on_silence(sound,\n",
    "        min_silence_len = min_silence_len,\n",
    "        silence_thresh = sound.dBFS + silence_thresh,\n",
    "        keep_silence = keep_silence,\n",
    "    )\n",
    "    \n",
    "    # create a directory to store the audio chunks\n",
    "    temp_folder = \"audio-chunks\" if temp_folder is None else temp_folder\n",
    "    if not os.path.isdir(temp_folder):\n",
    "        os.mkdir(temp_folder)\n",
    "    whole_text = \"\"\n",
    "    \n",
    "    # process each chunk \n",
    "    for i, audio_chunk in enumerate(chunks, start=1):\n",
    "        # export audio chunk and save it in\n",
    "        # the `temp_folder` directory.\n",
    "        chunk_filename = os.path.join(temp_folder, f\"chunk{i}.wav\")\n",
    "        audio_chunk.export(chunk_filename, format = \"wav\")\n",
    "        \n",
    "        # recognize the chunk\n",
    "        with sr.AudioFile(chunk_filename) as source:\n",
    "            audio_listened = r.record(source)\n",
    "            \n",
    "            # try converting it to text\n",
    "            try:\n",
    "                text = r.recognize_google(audio_listened, language = \"ru\")\n",
    "            except sr.UnknownValueError as e:\n",
    "                print(\"Error:\", str(e))\n",
    "            else:\n",
    "                text = f\"{text.capitalize()}. \"\n",
    "#                 print(chunk_filename, \":\", text)\n",
    "                whole_text += text + '\\n'\n",
    "    \n",
    "    # return the text for all chunks detected\n",
    "    return whole_text"
   ]
  },
  {
   "cell_type": "code",
   "execution_count": 18,
   "id": "b1a74d99",
   "metadata": {
    "scrolled": false
   },
   "outputs": [
    {
     "name": "stdout",
     "output_type": "stream",
     "text": [
      "Error: \n",
      "Компания. \n",
      "Здравствуйте подскажите вот недавно с москвы звонили должны были мне позвонить пригласить меня на seo. \n",
      "У меня пробег уже 18000 никто не позвонил сейчас я звоню данилу. \n",
      "Вот он не понимает. \n",
      "Samsung блокировка никто из них не поднимаешь телефон ничего не отвечает у меня сейчас загорелась. \n",
      "Машины машины. \n",
      "Новая. \n",
      "Жена. \n",
      "Очень приятно высокого город. \n",
      "Алматы. \n",
      "Хорошо у вас какая модель автомобиль. \n",
      "Nissan. \n",
      "Хорошо я вас понял за нас потом номер нашёл. \n",
      "Работа ночная работа в 9:00 утра. \n",
      "Я сейчас забыл нажать марине хорошо. \n",
      "Хорошо. \n",
      "\n"
     ]
    }
   ],
   "source": [
    "t = audio2text(\n",
    "    filename = './data/005c.wav', \n",
    "    temp_folder = './data/audio-chunks', \n",
    "    language = 'ru',\n",
    "    min_silence_len = 500,\n",
    "    silence_thresh = -19,\n",
    "    keep_silence = 350\n",
    ")\n",
    "\n",
    "print(t)"
   ]
  },
  {
   "cell_type": "code",
   "execution_count": 19,
   "id": "aad0759f",
   "metadata": {},
   "outputs": [
    {
     "name": "stdout",
     "output_type": "stream",
     "text": [
      "Error: \n",
      "Error: \n",
      "Error: \n",
      "Error: \n",
      "Error: \n",
      "Error: \n",
      "Error: \n",
      "Error: \n",
      "Error: \n",
      "Добрый день. \n",
      "Сергей геннадьевич компания renault казахстан innamorata вот вам сейчас удобно разговаривать. \n",
      "Хорошо мы приглашаем вас пройти опрос по качеству обслуживания это займёт несколько. \n",
      "У вас найдётся время. \n",
      "Да конечно. \n",
      "Хорошо сергеевич по нашим данным вы приобретали renault kaptur в дилерском центре interlan остаток лета. \n",
      "Достоверно хорошо давайте представим что ваш друг родственник или коллега захотел приобрести новый автомобиль. \n",
      "Порекомендуете ли вы ему обратиться в центр ван-авто пожалуйста оцените по шкале от 1 до 10 где 1 это определённо не рекомендую. \n",
      "Однозначно рекомендую. \n",
      "10 всё устроила. \n",
      "Хорошо а скажите пожалуйста по этой же десятибалльной шкале следующие вопросы насколько приветливого встретили в дилерском центре панавто. \n",
      "Так здесь. \n",
      "За основу принципа менеджера сразу подошли всё начали спрашивать объясняете показать. \n",
      "Хорошо а насколько менеджер хорошо смог определить потребности и помочь с выбором автомобиля. \n",
      "Достойно думаю 10 наводящие вопросы задавал спрашивал интересовался уточнял какой автомобиль. \n",
      "Сам предлагал варианты. \n",
      "Хорошо а вы проходили тест-драйв. \n",
      "Мне предложили. \n",
      "Хорошо а насколько вы удовлетворены ясностью предоставленной информации при оформлении покупки. \n",
      "Менеджер вообще претензий нет всё грамотно всё подробно объясню. \n",
      "Хорошо а насколько вы удовлетворены сроками поставки вашего нового. \n",
      "Ну наличкой долго этого не ожидал. \n",
      "Дождись. \n",
      "Хорошо а насколько торжественный было атмосфера передачи автомобиль. \n",
      "Какая должна быть целым устроилась понравилось. \n",
      "Хорошо я не могу сказать. \n",
      "Поддерживал ли делишки централ настя контакт с вами после выдачи автомобиля например по телефону. \n",
      "Да-да имам жары там девушка какая-то я так понял там ну как вы наверное только от орлана. \n",
      "Обслуживание запрашивал. \n",
      "Хорошо а может её тоже оценить их обратную связь будете бальной шкале. \n",
      "Бесит. \n",
      "Хорошо спасибо а с момента получения вашего нового каптур приходилось ли вам возвращаться в дилерский центр рено. \n",
      "Ошо а насколько вы удовлетворены дилерским центром которого приобрели свой новый автомобиль. \n",
      "На десятка солнце устроила. \n",
      "Равенство наличие национальной не надо было ждать там что-то. \n",
      "Прокомментируй пожалуйста своими словами. \n",
      "Покупки в дилерском центре. \n",
      "Профессионально. \n",
      "Качественно. \n",
      "Той самой золотой здесь. \n",
      "Всё устроила. \n",
      "Хорошо. \n",
      "А можем ли мы передать ваши ответы с указанием вашего имени дедушка вот этого сорвана. \n",
      "Да-да-да. \n",
      "Хорошо спасибо за уделённое время и сотрудничество хорошего дня на свидание. \n",
      "Снастями. \n",
      "\n"
     ]
    }
   ],
   "source": [
    "t = audio2text(\n",
    "    filename = './data/006c.wav', \n",
    "    temp_folder = './data/audio-chunks', \n",
    "    language = 'ru',\n",
    "    min_silence_len = 500,\n",
    "    silence_thresh = -19,\n",
    "    keep_silence = 350\n",
    ")\n",
    "\n",
    "print(t)"
   ]
  },
  {
   "cell_type": "code",
   "execution_count": null,
   "id": "483b18ef",
   "metadata": {},
   "outputs": [],
   "source": []
  },
  {
   "cell_type": "code",
   "execution_count": null,
   "id": "fe8fb786",
   "metadata": {},
   "outputs": [],
   "source": []
  },
  {
   "cell_type": "code",
   "execution_count": null,
   "id": "2ee05bbe",
   "metadata": {},
   "outputs": [],
   "source": []
  },
  {
   "cell_type": "code",
   "execution_count": null,
   "id": "8b92547b",
   "metadata": {},
   "outputs": [],
   "source": []
  },
  {
   "cell_type": "code",
   "execution_count": null,
   "id": "7f40c83f",
   "metadata": {},
   "outputs": [],
   "source": []
  },
  {
   "cell_type": "code",
   "execution_count": null,
   "id": "cf5a72c8",
   "metadata": {},
   "outputs": [],
   "source": []
  },
  {
   "cell_type": "code",
   "execution_count": null,
   "id": "90c4da65",
   "metadata": {},
   "outputs": [],
   "source": []
  },
  {
   "cell_type": "code",
   "execution_count": null,
   "id": "d454dc0d",
   "metadata": {},
   "outputs": [],
   "source": []
  },
  {
   "cell_type": "code",
   "execution_count": null,
   "id": "a7afd57a",
   "metadata": {},
   "outputs": [],
   "source": []
  },
  {
   "cell_type": "code",
   "execution_count": null,
   "id": "641a4d4a",
   "metadata": {},
   "outputs": [],
   "source": []
  },
  {
   "cell_type": "code",
   "execution_count": null,
   "id": "518f0dad",
   "metadata": {},
   "outputs": [],
   "source": []
  },
  {
   "cell_type": "code",
   "execution_count": null,
   "id": "ffc19b5c",
   "metadata": {},
   "outputs": [],
   "source": []
  },
  {
   "cell_type": "code",
   "execution_count": null,
   "id": "b74a1c70",
   "metadata": {},
   "outputs": [],
   "source": []
  },
  {
   "cell_type": "code",
   "execution_count": null,
   "id": "2a016119",
   "metadata": {},
   "outputs": [],
   "source": []
  },
  {
   "cell_type": "code",
   "execution_count": null,
   "id": "aa625043",
   "metadata": {},
   "outputs": [],
   "source": []
  },
  {
   "cell_type": "code",
   "execution_count": null,
   "id": "0b531790",
   "metadata": {},
   "outputs": [],
   "source": []
  },
  {
   "cell_type": "code",
   "execution_count": null,
   "id": "d5d69394",
   "metadata": {},
   "outputs": [],
   "source": []
  },
  {
   "cell_type": "code",
   "execution_count": null,
   "id": "b034afa5",
   "metadata": {},
   "outputs": [],
   "source": []
  }
 ],
 "metadata": {
  "kernelspec": {
   "display_name": "Python 3 (ipykernel)",
   "language": "python",
   "name": "python3"
  },
  "language_info": {
   "codemirror_mode": {
    "name": "ipython",
    "version": 3
   },
   "file_extension": ".py",
   "mimetype": "text/x-python",
   "name": "python",
   "nbconvert_exporter": "python",
   "pygments_lexer": "ipython3",
   "version": "3.9.12"
  }
 },
 "nbformat": 4,
 "nbformat_minor": 5
}
